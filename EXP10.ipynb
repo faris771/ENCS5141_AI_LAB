{
 "cells": [
  {
   "metadata": {},
   "cell_type": "markdown",
   "source": "# Experiment 10 - Information Retrieval",
   "id": "99c10b60bc9aa13c"
  },
  {
   "metadata": {},
   "cell_type": "markdown",
   "source": [
    "# 1.2 Procedure\n",
    "For the purpose of this lab, we will use Whoosh since it is a fast, featureful full-text\n",
    "indexing and searching library implemented in pure Python. It will suffice for this lab,\n",
    "but keep in mind that there are more suitable and better options for larger projects.\n"
   ],
   "id": "8f92600f853598f8"
  },
  {
   "metadata": {},
   "cell_type": "markdown",
   "source": "## 1.2.1 Installation",
   "id": "dc040ded39ad45b9"
  },
  {
   "cell_type": "code",
   "id": "initial_id",
   "metadata": {
    "collapsed": true,
    "ExecuteTime": {
     "end_time": "2024-08-16T20:26:49.155693Z",
     "start_time": "2024-08-16T20:26:43.284104Z"
    }
   },
   "source": "!pip install whoosh",
   "outputs": [
    {
     "name": "stdout",
     "output_type": "stream",
     "text": [
      "Defaulting to user installation because normal site-packages is not writeable\r\n",
      "Collecting whoosh\r\n",
      "  Downloading Whoosh-2.7.4-py2.py3-none-any.whl.metadata (3.1 kB)\r\n",
      "Downloading Whoosh-2.7.4-py2.py3-none-any.whl (468 kB)\r\n",
      "\u001B[2K   \u001B[90m━━━━━━━━━━━━━━━━━━━━━━━━━━━━━━━━━━━━━━━━\u001B[0m \u001B[32m468.8/468.8 kB\u001B[0m \u001B[31m1.5 MB/s\u001B[0m eta \u001B[36m0:00:00\u001B[0m00:01\u001B[0m00:01\u001B[0mm\r\n",
      "\u001B[?25hInstalling collected packages: whoosh\r\n",
      "Successfully installed whoosh-2.7.4\r\n",
      "\r\n",
      "\u001B[1m[\u001B[0m\u001B[34;49mnotice\u001B[0m\u001B[1;39;49m]\u001B[0m\u001B[39;49m A new release of pip is available: \u001B[0m\u001B[31;49m24.1.2\u001B[0m\u001B[39;49m -> \u001B[0m\u001B[32;49m24.2\u001B[0m\r\n",
      "\u001B[1m[\u001B[0m\u001B[34;49mnotice\u001B[0m\u001B[1;39;49m]\u001B[0m\u001B[39;49m To update, run: \u001B[0m\u001B[32;49mpython3.10 -m pip install --upgrade pip\u001B[0m\r\n"
     ]
    }
   ],
   "execution_count": 1
  },
  {
   "metadata": {
    "ExecuteTime": {
     "end_time": "2024-08-16T20:32:49.072742Z",
     "start_time": "2024-08-16T20:32:37.245791Z"
    }
   },
   "cell_type": "code",
   "source": "!pip install kaggle",
   "id": "179e479bfd27e2d7",
   "outputs": [
    {
     "name": "stdout",
     "output_type": "stream",
     "text": [
      "Defaulting to user installation because normal site-packages is not writeable\r\n",
      "Collecting kaggle\r\n",
      "  Downloading kaggle-1.6.17.tar.gz (82 kB)\r\n",
      "\u001B[2K     \u001B[90m━━━━━━━━━━━━━━━━━━━━━━━━━━━━━━━━━━━━━━━\u001B[0m \u001B[32m82.7/82.7 kB\u001B[0m \u001B[31m439.9 kB/s\u001B[0m eta \u001B[36m0:00:00\u001B[0m00:01\u001B[0m00:01\u001B[0m\r\n",
      "\u001B[?25h  Installing build dependencies ... \u001B[?25ldone\r\n",
      "\u001B[?25h  Getting requirements to build wheel ... \u001B[?25ldone\r\n",
      "\u001B[?25h  Preparing metadata (pyproject.toml) ... \u001B[?25ldone\r\n",
      "\u001B[?25hRequirement already satisfied: six>=1.10 in /usr/lib/python3/dist-packages (from kaggle) (1.16.0)\r\n",
      "Collecting certifi>=2023.7.22 (from kaggle)\r\n",
      "  Downloading certifi-2024.7.4-py3-none-any.whl.metadata (2.2 kB)\r\n",
      "Requirement already satisfied: python-dateutil in /usr/local/lib/python3.10/dist-packages (from kaggle) (2.8.2)\r\n",
      "Requirement already satisfied: requests in /usr/local/lib/python3.10/dist-packages (from kaggle) (2.31.0)\r\n",
      "Requirement already satisfied: tqdm in /home/faris/.local/lib/python3.10/site-packages (from kaggle) (4.66.1)\r\n",
      "Collecting python-slugify (from kaggle)\r\n",
      "  Downloading python_slugify-8.0.4-py2.py3-none-any.whl.metadata (8.5 kB)\r\n",
      "Requirement already satisfied: urllib3 in /usr/lib/python3/dist-packages (from kaggle) (1.26.5)\r\n",
      "Requirement already satisfied: bleach in /usr/local/lib/python3.10/dist-packages (from kaggle) (6.0.0)\r\n",
      "Requirement already satisfied: webencodings in /usr/local/lib/python3.10/dist-packages (from bleach->kaggle) (0.5.1)\r\n",
      "Collecting text-unidecode>=1.3 (from python-slugify->kaggle)\r\n",
      "  Downloading text_unidecode-1.3-py2.py3-none-any.whl.metadata (2.4 kB)\r\n",
      "Requirement already satisfied: charset-normalizer<4,>=2 in /usr/local/lib/python3.10/dist-packages (from requests->kaggle) (3.2.0)\r\n",
      "Requirement already satisfied: idna<4,>=2.5 in /usr/lib/python3/dist-packages (from requests->kaggle) (3.3)\r\n",
      "Downloading certifi-2024.7.4-py3-none-any.whl (162 kB)\r\n",
      "\u001B[2K   \u001B[90m━━━━━━━━━━━━━━━━━━━━━━━━━━━━━━━━━━━━━━━\u001B[0m \u001B[32m163.0/163.0 kB\u001B[0m \u001B[31m880.4 kB/s\u001B[0m eta \u001B[36m0:00:00\u001B[0m \u001B[36m0:00:01\u001B[0m\r\n",
      "\u001B[?25hDownloading python_slugify-8.0.4-py2.py3-none-any.whl (10 kB)\r\n",
      "Downloading text_unidecode-1.3-py2.py3-none-any.whl (78 kB)\r\n",
      "\u001B[2K   \u001B[90m━━━━━━━━━━━━━━━━━━━━━━━━━━━━━━━━━━━━━━━━\u001B[0m \u001B[32m78.2/78.2 kB\u001B[0m \u001B[31m676.7 kB/s\u001B[0m eta \u001B[36m0:00:00\u001B[0m \u001B[36m0:00:01\u001B[0m\r\n",
      "\u001B[?25hBuilding wheels for collected packages: kaggle\r\n",
      "  Building wheel for kaggle (pyproject.toml) ... \u001B[?25ldone\r\n",
      "\u001B[?25h  Created wheel for kaggle: filename=kaggle-1.6.17-py3-none-any.whl size=105787 sha256=a443f185f765da090dfdc8cce2c422562690c9f95911c60f0204ab784d8f03f2\r\n",
      "  Stored in directory: /home/faris/.cache/pip/wheels/9f/af/22/bf406f913dc7506a485e60dce8143741abd0a92a19337d83a3\r\n",
      "Successfully built kaggle\r\n",
      "Installing collected packages: text-unidecode, python-slugify, certifi, kaggle\r\n",
      "Successfully installed certifi-2024.7.4 kaggle-1.6.17 python-slugify-8.0.4 text-unidecode-1.3\r\n",
      "\r\n",
      "\u001B[1m[\u001B[0m\u001B[34;49mnotice\u001B[0m\u001B[1;39;49m]\u001B[0m\u001B[39;49m A new release of pip is available: \u001B[0m\u001B[31;49m24.1.2\u001B[0m\u001B[39;49m -> \u001B[0m\u001B[32;49m24.2\u001B[0m\r\n",
      "\u001B[1m[\u001B[0m\u001B[34;49mnotice\u001B[0m\u001B[1;39;49m]\u001B[0m\u001B[39;49m To update, run: \u001B[0m\u001B[32;49mpython3.10 -m pip install --upgrade pip\u001B[0m\r\n"
     ]
    }
   ],
   "execution_count": 3
  },
  {
   "metadata": {
    "ExecuteTime": {
     "end_time": "2024-08-16T20:39:32.101273Z",
     "start_time": "2024-08-16T20:32:52.870163Z"
    }
   },
   "cell_type": "code",
   "source": [
    "!kaggle datasets download -d stackoverflow/stacksample\n",
    "!unzip stacksample.zip"
   ],
   "id": "4d857b8b6e80eaf6",
   "outputs": [
    {
     "name": "stdout",
     "output_type": "stream",
     "text": [
      "Dataset URL: https://www.kaggle.com/datasets/stackoverflow/stacksample\r\n",
      "License(s): other\r\n",
      "Downloading stacksample.zip to /home/faris/PycharmProjects/AI_LAB\r\n",
      "100%|█████████████████████████████████████▉| 1.11G/1.11G [03:48<00:00, 11.9MB/s]\r\n",
      "100%|██████████████████████████████████████| 1.11G/1.11G [03:48<00:00, 5.20MB/s]\r\n",
      "Archive:  stacksample.zip\r\n",
      "  inflating: Answers.csv             \r\n",
      "  inflating: Questions.csv           \r\n",
      "  inflating: Tags.csv                \r\n"
     ]
    }
   ],
   "execution_count": 4
  },
  {
   "metadata": {
    "ExecuteTime": {
     "end_time": "2024-08-16T20:41:32.141378Z",
     "start_time": "2024-08-16T20:41:31.809824Z"
    }
   },
   "cell_type": "code",
   "source": [
    "import pandas as pd\n",
    "questions=pd.read_csv(\"Questions.csv\", nrows=20000)\n",
    "questions"
   ],
   "id": "4d57e04bad99ac7a",
   "outputs": [
    {
     "data": {
      "text/plain": [
       "            Id  OwnerUserId          CreationDate            ClosedDate  \\\n",
       "0           80         26.0  2008-08-01T13:57:07Z                   NaN   \n",
       "1           90         58.0  2008-08-01T14:41:24Z  2012-12-26T03:45:49Z   \n",
       "2          120         83.0  2008-08-01T15:50:08Z                   NaN   \n",
       "3          180    2089740.0  2008-08-01T18:42:19Z                   NaN   \n",
       "4          260         91.0  2008-08-01T23:22:08Z                   NaN   \n",
       "...        ...          ...                   ...                   ...   \n",
       "19995  1114470      82266.0  2009-07-11T19:37:06Z                   NaN   \n",
       "19996  1114540    2288585.0  2009-07-11T20:16:06Z                   NaN   \n",
       "19997  1114550     131128.0  2009-07-11T20:20:11Z                   NaN   \n",
       "19998  1114580      87271.0  2009-07-11T20:35:46Z                   NaN   \n",
       "19999  1114600      63472.0  2009-07-11T20:41:50Z                   NaN   \n",
       "\n",
       "       Score                                              Title  \\\n",
       "0         26  SQLStatement.execute() - multiple queries in o...   \n",
       "1        144  Good branching and merging tutorials for Torto...   \n",
       "2         21                                  ASP.NET Site Maps   \n",
       "3         53                 Function for creating color wheels   \n",
       "4         49  Adding scripting functionality to .NET applica...   \n",
       "...      ...                                                ...   \n",
       "19995      0       Trim all chars off file name after first \"_\"   \n",
       "19996      7  Xcode question: Quickly jump to a particular s...   \n",
       "19997      3  Serializing a generic collection with XMLSeria...   \n",
       "19998      1            Using Yahoo Fire Eagle on Grails / Java   \n",
       "19999      1  How to share code & xib files between iPhone a...   \n",
       "\n",
       "                                                    Body  \n",
       "0      <p>I've written a database generation script i...  \n",
       "1      <p>Are there any really good tutorials explain...  \n",
       "2      <p>Has anyone got experience creating <strong>...  \n",
       "3      <p>This is something I've pseudo-solved many t...  \n",
       "4      <p>I have a little game written in C#. It uses...  \n",
       "...                                                  ...  \n",
       "19995  <p>I'd like to trim these purchase order file ...  \n",
       "19996  <p>What is the quickest way to jump to a parti...  \n",
       "19997  <p>Why won't XMLSerializer process my generic ...  \n",
       "19998  <p>Has anyone implemented the Yahoo Fire Eagle...  \n",
       "19999  <p>I'm in the process of creating an app.  I'd...  \n",
       "\n",
       "[20000 rows x 7 columns]"
      ],
      "text/html": [
       "<div>\n",
       "<style scoped>\n",
       "    .dataframe tbody tr th:only-of-type {\n",
       "        vertical-align: middle;\n",
       "    }\n",
       "\n",
       "    .dataframe tbody tr th {\n",
       "        vertical-align: top;\n",
       "    }\n",
       "\n",
       "    .dataframe thead th {\n",
       "        text-align: right;\n",
       "    }\n",
       "</style>\n",
       "<table border=\"1\" class=\"dataframe\">\n",
       "  <thead>\n",
       "    <tr style=\"text-align: right;\">\n",
       "      <th></th>\n",
       "      <th>Id</th>\n",
       "      <th>OwnerUserId</th>\n",
       "      <th>CreationDate</th>\n",
       "      <th>ClosedDate</th>\n",
       "      <th>Score</th>\n",
       "      <th>Title</th>\n",
       "      <th>Body</th>\n",
       "    </tr>\n",
       "  </thead>\n",
       "  <tbody>\n",
       "    <tr>\n",
       "      <th>0</th>\n",
       "      <td>80</td>\n",
       "      <td>26.0</td>\n",
       "      <td>2008-08-01T13:57:07Z</td>\n",
       "      <td>NaN</td>\n",
       "      <td>26</td>\n",
       "      <td>SQLStatement.execute() - multiple queries in o...</td>\n",
       "      <td>&lt;p&gt;I've written a database generation script i...</td>\n",
       "    </tr>\n",
       "    <tr>\n",
       "      <th>1</th>\n",
       "      <td>90</td>\n",
       "      <td>58.0</td>\n",
       "      <td>2008-08-01T14:41:24Z</td>\n",
       "      <td>2012-12-26T03:45:49Z</td>\n",
       "      <td>144</td>\n",
       "      <td>Good branching and merging tutorials for Torto...</td>\n",
       "      <td>&lt;p&gt;Are there any really good tutorials explain...</td>\n",
       "    </tr>\n",
       "    <tr>\n",
       "      <th>2</th>\n",
       "      <td>120</td>\n",
       "      <td>83.0</td>\n",
       "      <td>2008-08-01T15:50:08Z</td>\n",
       "      <td>NaN</td>\n",
       "      <td>21</td>\n",
       "      <td>ASP.NET Site Maps</td>\n",
       "      <td>&lt;p&gt;Has anyone got experience creating &lt;strong&gt;...</td>\n",
       "    </tr>\n",
       "    <tr>\n",
       "      <th>3</th>\n",
       "      <td>180</td>\n",
       "      <td>2089740.0</td>\n",
       "      <td>2008-08-01T18:42:19Z</td>\n",
       "      <td>NaN</td>\n",
       "      <td>53</td>\n",
       "      <td>Function for creating color wheels</td>\n",
       "      <td>&lt;p&gt;This is something I've pseudo-solved many t...</td>\n",
       "    </tr>\n",
       "    <tr>\n",
       "      <th>4</th>\n",
       "      <td>260</td>\n",
       "      <td>91.0</td>\n",
       "      <td>2008-08-01T23:22:08Z</td>\n",
       "      <td>NaN</td>\n",
       "      <td>49</td>\n",
       "      <td>Adding scripting functionality to .NET applica...</td>\n",
       "      <td>&lt;p&gt;I have a little game written in C#. It uses...</td>\n",
       "    </tr>\n",
       "    <tr>\n",
       "      <th>...</th>\n",
       "      <td>...</td>\n",
       "      <td>...</td>\n",
       "      <td>...</td>\n",
       "      <td>...</td>\n",
       "      <td>...</td>\n",
       "      <td>...</td>\n",
       "      <td>...</td>\n",
       "    </tr>\n",
       "    <tr>\n",
       "      <th>19995</th>\n",
       "      <td>1114470</td>\n",
       "      <td>82266.0</td>\n",
       "      <td>2009-07-11T19:37:06Z</td>\n",
       "      <td>NaN</td>\n",
       "      <td>0</td>\n",
       "      <td>Trim all chars off file name after first \"_\"</td>\n",
       "      <td>&lt;p&gt;I'd like to trim these purchase order file ...</td>\n",
       "    </tr>\n",
       "    <tr>\n",
       "      <th>19996</th>\n",
       "      <td>1114540</td>\n",
       "      <td>2288585.0</td>\n",
       "      <td>2009-07-11T20:16:06Z</td>\n",
       "      <td>NaN</td>\n",
       "      <td>7</td>\n",
       "      <td>Xcode question: Quickly jump to a particular s...</td>\n",
       "      <td>&lt;p&gt;What is the quickest way to jump to a parti...</td>\n",
       "    </tr>\n",
       "    <tr>\n",
       "      <th>19997</th>\n",
       "      <td>1114550</td>\n",
       "      <td>131128.0</td>\n",
       "      <td>2009-07-11T20:20:11Z</td>\n",
       "      <td>NaN</td>\n",
       "      <td>3</td>\n",
       "      <td>Serializing a generic collection with XMLSeria...</td>\n",
       "      <td>&lt;p&gt;Why won't XMLSerializer process my generic ...</td>\n",
       "    </tr>\n",
       "    <tr>\n",
       "      <th>19998</th>\n",
       "      <td>1114580</td>\n",
       "      <td>87271.0</td>\n",
       "      <td>2009-07-11T20:35:46Z</td>\n",
       "      <td>NaN</td>\n",
       "      <td>1</td>\n",
       "      <td>Using Yahoo Fire Eagle on Grails / Java</td>\n",
       "      <td>&lt;p&gt;Has anyone implemented the Yahoo Fire Eagle...</td>\n",
       "    </tr>\n",
       "    <tr>\n",
       "      <th>19999</th>\n",
       "      <td>1114600</td>\n",
       "      <td>63472.0</td>\n",
       "      <td>2009-07-11T20:41:50Z</td>\n",
       "      <td>NaN</td>\n",
       "      <td>1</td>\n",
       "      <td>How to share code &amp; xib files between iPhone a...</td>\n",
       "      <td>&lt;p&gt;I'm in the process of creating an app.  I'd...</td>\n",
       "    </tr>\n",
       "  </tbody>\n",
       "</table>\n",
       "<p>20000 rows × 7 columns</p>\n",
       "</div>"
      ]
     },
     "execution_count": 6,
     "metadata": {},
     "output_type": "execute_result"
    }
   ],
   "execution_count": 6
  }
 ],
 "metadata": {
  "kernelspec": {
   "display_name": "Python 3",
   "language": "python",
   "name": "python3"
  },
  "language_info": {
   "codemirror_mode": {
    "name": "ipython",
    "version": 2
   },
   "file_extension": ".py",
   "mimetype": "text/x-python",
   "name": "python",
   "nbconvert_exporter": "python",
   "pygments_lexer": "ipython2",
   "version": "2.7.6"
  }
 },
 "nbformat": 4,
 "nbformat_minor": 5
}
